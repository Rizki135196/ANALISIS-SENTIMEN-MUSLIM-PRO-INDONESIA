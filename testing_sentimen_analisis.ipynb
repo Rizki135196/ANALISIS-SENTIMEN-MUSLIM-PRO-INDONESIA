{
  "nbformat": 4,
  "nbformat_minor": 0,
  "metadata": {
    "colab": {
      "provenance": [],
      "authorship_tag": "ABX9TyN0nq7Ed/CeyTgaAm7NOB0r",
      "include_colab_link": true
    },
    "kernelspec": {
      "name": "python3",
      "display_name": "Python 3"
    },
    "language_info": {
      "name": "python"
    }
  },
  "cells": [
    {
      "cell_type": "markdown",
      "metadata": {
        "id": "view-in-github",
        "colab_type": "text"
      },
      "source": [
        "<a href=\"https://colab.research.google.com/github/Rizki135196/ANALISIS-SENTIMEN-MUSLIM-PRO-INDONESIA/blob/main/testing_sentimen_analisis.ipynb\" target=\"_parent\"><img src=\"https://colab.research.google.com/assets/colab-badge.svg\" alt=\"Open In Colab\"/></a>"
      ]
    },
    {
      "cell_type": "code",
      "execution_count": null,
      "metadata": {
        "id": "w6P_01Z8ZL2e"
      },
      "outputs": [],
      "source": []
    }
  ]
}